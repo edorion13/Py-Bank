{
 "cells": [
  {
   "cell_type": "code",
   "execution_count": 268,
   "id": "a2d0b8e1-9075-4eb9-93a3-26ac5e51008c",
   "metadata": {
    "tags": []
   },
   "outputs": [],
   "source": [
    "#imports\n",
    "import csv\n",
    "# Open file\n",
    "with open ('budget_data.csv', 'r') as csv_file:\n",
    "    csv_reader = csv.reader(csv_file)\n",
    "    # create variables\n",
    "    total_months= 0\n",
    "    net_total = 0\n",
    "    greatest_increase_date = \"\"\n",
    "    greatest_increase_number = 0\n",
    "    greatest_increase_date = \"\"\n",
    "    greatest_decrease_number = 0\n",
    "    average_rate_change = 0\n",
    "    months = []\n",
    "    numbers = []\n",
    "    dictionary = {}\n",
    "#Iterate through file and separate into lists\n",
    "    for row in csv_reader:\n",
    "        months.append(row[0])\n",
    "        numbers.append(row[1])\n"
   ]
  },
  {
   "cell_type": "code",
   "execution_count": 269,
   "id": "3a318bf7-9931-4fb6-91e9-62e1aeaca8da",
   "metadata": {},
   "outputs": [],
   "source": [
    "# remove headers from list to make indexes easier to navigate\n",
    "months.remove('Date')\n",
    "numbers.remove('Profit/Losses')"
   ]
  },
  {
   "cell_type": "code",
   "execution_count": 270,
   "id": "d3045111-6e17-4f1a-9403-c76a2f680d1f",
   "metadata": {},
   "outputs": [],
   "source": [
    "# making all (str) in numbers (ints)\n",
    "for i in range(0, len(numbers)):\n",
    "    numbers[i] = int(numbers[i])"
   ]
  },
  {
   "cell_type": "code",
   "execution_count": 271,
   "id": "75e0d7b8-44a7-4b71-a842-6dc05532c451",
   "metadata": {},
   "outputs": [],
   "source": [
    "# Finding total months\n",
    "for each in months:\n",
    "    total_months+=1"
   ]
  },
  {
   "cell_type": "code",
   "execution_count": 272,
   "id": "2539e326-323b-480b-9cbf-4bc4028c2116",
   "metadata": {},
   "outputs": [],
   "source": [
    "# finding total amount of profit/loss \n",
    "for i in numbers:\n",
    "    net_total += i"
   ]
  },
  {
   "cell_type": "code",
   "execution_count": 273,
   "id": "49ef32a3-bf3e-45bc-a554-60d4d9747b2d",
   "metadata": {},
   "outputs": [],
   "source": [
    "# finding the average of the changes in profit/loss\n",
    "average_rate_change = round(((numbers[-1] - numbers[0])/(totalMonths -1)))"
   ]
  },
  {
   "cell_type": "code",
   "execution_count": 274,
   "id": "3fdb2531-937f-4817-aed1-00e9d4abe1b1",
   "metadata": {},
   "outputs": [],
   "source": [
    "# making a dict out of the two lists, so I can find the biggest/ smallest dates\n",
    "dictionary = dict(zip(months, numbers))"
   ]
  },
  {
   "cell_type": "code",
   "execution_count": 275,
   "id": "e93d0a25-b7f8-45e7-9f2e-2ac2e54cc488",
   "metadata": {},
   "outputs": [],
   "source": [
    "# finding max and min for the dates\n",
    "greatest_increase_date = max(dictionary, key = dictionary.get)\n",
    "greatest_decrease_date = min(dictionary, key = dictionary.get)"
   ]
  },
  {
   "cell_type": "code",
   "execution_count": 276,
   "id": "f85ad89d-63d8-4148-8762-df6bf9a3b16f",
   "metadata": {},
   "outputs": [],
   "source": [
    "# finding net changes and storing them into a list\n",
    "with open('budget_data.csv', 'r') as csv_file:\n",
    "        csv_reader = csv.reader(csv_file)\n",
    "        header = next(csv_reader)\n",
    "        first_row = next(csv_reader)\n",
    "        net_change_list=[]\n",
    "        first_row = next(csv_reader)\n",
    "        prev_net = int(first_row[1])\n",
    "        for row in csv_reader:\n",
    "            net_change = int(row[1]) - prev_net\n",
    "            prev_net = int(row[1])\n",
    "            net_change_list += [net_change]"
   ]
  },
  {
   "cell_type": "code",
   "execution_count": 277,
   "id": "63c7a991-9159-4438-990c-a79c59b5f014",
   "metadata": {},
   "outputs": [],
   "source": [
    "# finding max and min for the values\n",
    "greatest_increase_number = (max(net_change_list))\n",
    "greatest_decrease_number = (min(net_change_list))"
   ]
  },
  {
   "cell_type": "code",
   "execution_count": 278,
   "id": "4976da21-027e-424e-b0a6-dca86fc5dcf3",
   "metadata": {},
   "outputs": [
    {
     "name": "stdout",
     "output_type": "stream",
     "text": [
      "Financial Analysis\n",
      "\n",
      "-----------------------\n",
      "\n",
      "Total Months:  86\n",
      "\n",
      "Total:  38382578\n",
      "\n",
      "Average Change:  $ -2315\n",
      "\n",
      "Greatest Increase in Profits:  Feb-2012 $ 1926159\n",
      "\n",
      "Greatest Decrease in Profits:  Sep-2013 $ -2196167\n"
     ]
    }
   ],
   "source": [
    "# print statements\n",
    "print(\"Financial Analysis\")\n",
    "print(\"\")\n",
    "print(\"-----------------------\")\n",
    "print(\"\")\n",
    "print(\"Total Months: \", total_months)\n",
    "print(\"\")\n",
    "print(\"Total: \", net_total)\n",
    "print(\"\")\n",
    "print(\"Average Change: \", \"$\", average_rate_change)\n",
    "print(\"\")\n",
    "print(\"Greatest Increase in Profits: \", greatest_increase_date, \"$\", greatest_increase_number)\n",
    "print(\"\")\n",
    "print(\"Greatest Decrease in Profits: \", greatest_decrease_date_date, \"$\", greatest_decrease_number)\n"
   ]
  },
  {
   "cell_type": "code",
   "execution_count": 279,
   "id": "80143772-210b-4dbb-b6d9-eb4fdf46b329",
   "metadata": {},
   "outputs": [
    {
     "data": {
      "text/plain": [
       "204"
      ]
     },
     "execution_count": 279,
     "metadata": {},
     "output_type": "execute_result"
    }
   ],
   "source": [
    "# exporting to a text file\n",
    "output = open(\"output.txt\", \"w\")\n",
    "output.write(f'''\n",
    "Financial Analysis\n",
    "------------------\n",
    "Total Months: {total_months}\n",
    "Total: ${net_total}\n",
    "Average Monthly Change: ${average_rate_change}\n",
    "Greatest Increase in Profits: {greatest_increase_date} (${greatest_increase_number})\n",
    "Greatest Decrease in Profits: {greatest_decrease_date} (${greatest_decrease_number})''')"
   ]
  }
 ],
 "metadata": {
  "kernelspec": {
   "display_name": "Python 3 (ipykernel)",
   "language": "python",
   "name": "python3"
  },
  "language_info": {
   "codemirror_mode": {
    "name": "ipython",
    "version": 3
   },
   "file_extension": ".py",
   "mimetype": "text/x-python",
   "name": "python",
   "nbconvert_exporter": "python",
   "pygments_lexer": "ipython3",
   "version": "3.7.15"
  }
 },
 "nbformat": 4,
 "nbformat_minor": 5
}
